{
 "cells": [
  {
   "cell_type": "markdown",
   "id": "d9e50d73",
   "metadata": {},
   "source": [
    "Assignment 2 Shannon Bowes"
   ]
  },
  {
   "cell_type": "code",
   "execution_count": 2,
   "id": "4f8d4b56",
   "metadata": {},
   "outputs": [],
   "source": [
    "def f(x):\n",
    "    \"\"\" For a given value of x, this computes x**3 - x**2 - 1,\n",
    "    the value of the function f.\n",
    "    Parameters\n",
    "    ----------\n",
    "    x : array_like (float)\n",
    "    \n",
    "    Returns:\n",
    "    ----------\n",
    "    f : array_like (float)\n",
    "    \"\"\"\n",
    "    f = x**3 - x**2 - 1\n",
    "    return f"
   ]
  },
  {
   "cell_type": "code",
   "execution_count": 3,
   "id": "331cae84",
   "metadata": {},
   "outputs": [],
   "source": [
    "def df(x):\n",
    "    \"\"\" For a given value of x, this computes  the derivative \n",
    "    of x**3 - x**2 - 1, df.\n",
    "    Parameters\n",
    "    ----------\n",
    "    x : array_like (float)\n",
    "    \n",
    "    Returns:\n",
    "    ----------\n",
    "    df : array_like (float)\n",
    "    \"\"\"\n",
    "    df = 3*x**2 - 2*x\n",
    "    return df"
   ]
  },
  {
   "cell_type": "code",
   "execution_count": 4,
   "id": "cea9293d",
   "metadata": {},
   "outputs": [],
   "source": [
    "#x_{n+1} = x_n - \\frac{f(x_n)}{f'(x_n)}\n",
    "\n",
    "\n",
    "def newton(f, df, x0, epsilon=1e-6, max_iter=30):\n",
    "    \"\"\" This performs a Newton Iteration of the function f \n",
    "    with derivative df.\n",
    "    \n",
    "    Parameters\n",
    "    ----------\n",
    "    f : function\n",
    "    df : function\n",
    "    \n",
    "    Returns:\n",
    "    ----------\n",
    "    x_n\n",
    "    \"\"\"\n",
    "    N=0\n",
    "    for iterations in range(max_iter):\n",
    "        x_n = x0 - f(x0)/df(x0)\n",
    "        if abs(f(x_n)) < epsilon:\n",
    "            print(\"Found root in \" + str(N) + \" iterations\")\n",
    "            return x_n\n",
    "        if iterations == max_iter:\n",
    "            print(\"Iteration failed\")\n",
    "            return None\n",
    "        x0 = x_n  \n",
    "        N +=1\n"
   ]
  },
  {
   "cell_type": "code",
   "execution_count": 5,
   "id": "b46d7ab1",
   "metadata": {},
   "outputs": [
    {
     "name": "stdout",
     "output_type": "stream",
     "text": [
      "Found root in 4 iterations\n"
     ]
    },
    {
     "data": {
      "text/plain": [
       "1.4655713749070918"
      ]
     },
     "execution_count": 5,
     "metadata": {},
     "output_type": "execute_result"
    }
   ],
   "source": [
    "x0=1\n",
    "newton(f, df, x0=1, epsilon=1e-6, max_iter=30)"
   ]
  },
  {
   "cell_type": "code",
   "execution_count": 6,
   "id": "e9f47b9f",
   "metadata": {},
   "outputs": [
    {
     "name": "stdout",
     "output_type": "stream",
     "text": [
      "Found root in 4 iterations\n"
     ]
    },
    {
     "data": {
      "text/plain": [
       "1.4655713749070918"
      ]
     },
     "execution_count": 6,
     "metadata": {},
     "output_type": "execute_result"
    }
   ],
   "source": [
    "x0=2\n",
    "newton(f, df, x0=1, epsilon=1e-6, max_iter=30)"
   ]
  },
  {
   "cell_type": "code",
   "execution_count": 7,
   "id": "a860496d",
   "metadata": {},
   "outputs": [
    {
     "name": "stdout",
     "output_type": "stream",
     "text": [
      "Found root in 5 iterations\n"
     ]
    },
    {
     "data": {
      "text/plain": [
       "1.4655712318767877"
      ]
     },
     "execution_count": 7,
     "metadata": {},
     "output_type": "execute_result"
    }
   ],
   "source": [
    "x0=1\n",
    "newton(f, df, x0=1, epsilon=1e-8, max_iter=30)"
   ]
  },
  {
   "cell_type": "code",
   "execution_count": null,
   "id": "1049045f",
   "metadata": {},
   "outputs": [],
   "source": []
  }
 ],
 "metadata": {
  "kernelspec": {
   "display_name": "Python 3 (ipykernel)",
   "language": "python",
   "name": "python3"
  },
  "language_info": {
   "codemirror_mode": {
    "name": "ipython",
    "version": 3
   },
   "file_extension": ".py",
   "mimetype": "text/x-python",
   "name": "python",
   "nbconvert_exporter": "python",
   "pygments_lexer": "ipython3",
   "version": "3.10.2"
  }
 },
 "nbformat": 4,
 "nbformat_minor": 5
}
